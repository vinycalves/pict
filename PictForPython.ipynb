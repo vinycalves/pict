{
 "cells": [
  {
   "metadata": {},
   "cell_type": "code",
   "source": [
    "import pandas as pd\n",
    "import subprocess\n",
    "from io import StringIO"
   ],
   "id": "3f4c2dff9832abb6",
   "outputs": [],
   "execution_count": null
  },
  {
   "metadata": {},
   "cell_type": "code",
   "source": [
    "# Documentação https://github.com/Microsoft/pict/blob/main/doc/pict.md\n",
    "command = \"./pict.exe ./possibilities.txt\"\n",
    "result = subprocess.run(command, shell=True, stdout=subprocess.PIPE, stderr=subprocess.PIPE, text=True)\n",
    "data = result.stdout\n",
    "df = pd.read_csv(StringIO(data), sep='\\t')"
   ],
   "id": "dded4d5850296650",
   "outputs": [],
   "execution_count": null
  },
  {
   "metadata": {},
   "cell_type": "code",
   "source": [
    "# Constraints para as crianças\n",
    "df_filtered = df.query('(Children + Adult) <= 5')\n",
    "\n",
    "# Constraints para os adultos acima de 1 ano\n",
    "df_filtered = df_filtered.query('(Adult) > 0')"
   ],
   "id": "fccc627f4c6f50d5",
   "outputs": [],
   "execution_count": null
  },
  {
   "metadata": {},
   "cell_type": "code",
   "source": [
    "# Tratamento dos dados da quantidade de pessoas\n",
    "def ajustar_idades_criancas(row):\n",
    "    num_criancas = row['Children']\n",
    "    for i in range(1, 5):\n",
    "        if i <= num_criancas:\n",
    "            continue\n",
    "        else:\n",
    "            row[f'ChildrenAge{i}'] = None\n",
    "    return row\n",
    "\n",
    "# Aplicar a função a cada linha do DataFrame\n",
    "df_filtered = df_filtered.apply(ajustar_idades_criancas, axis=1)"
   ],
   "id": "713954bcdf51ded8",
   "outputs": [],
   "execution_count": null
  },
  {
   "metadata": {},
   "cell_type": "code",
   "source": [
    "# Lista de todos os mesed o ano\n",
    "todos_os_meses = [\"jun2024\", \"jul2024\", \"ago2024\", \"set2024\", \"out2024\", \"nov2024\", \"dez2024\", \"jan2025\", \"fev2025\",\n",
    "                  \"mar2025\", \"abr2025\", \"mai2025\", \"jun2025\", \"jul2025\", \"ago2025\", \"set2025\", \"out2025\", \"nov2025\"]\n",
    "\n",
    "# Lista padrão que todos precisam para fazer o teste\n",
    "colunas_padrao = ['Children', 'Adult', 'ChildrenAge1', 'ChildrenAge2', 'ChildrenAge3', 'ChildrenAge4']"
   ],
   "id": "d18b9471b56d6c32",
   "outputs": [],
   "execution_count": null
  },
  {
   "metadata": {},
   "cell_type": "code",
   "source": [
    "# Criar uma lista dos meses desejados\n",
    "meses_desejados = ['jun2024', 'jul2024', 'ago2024', 'set2024', 'mai2025', 'jun2025', 'jul2025', 'ago2025', 'set2025']\n",
    "locais_desejados = ['Vancouver (British Columbia), Canada']\n",
    "colunas = meses_desejados + locais_desejados + colunas_padrao\n",
    "\n",
    "# Aplicar filtro para cruzeiro específico de destino\n",
    "local_de_destinho = 'Alaska Cruises'\n",
    "df_filtered_cruise = df_filtered[df_filtered[local_de_destinho] == 'Checked'][colunas]\n",
    "\n",
    "# Exibir os resultados\n",
    "df_filtered_cruise"
   ],
   "id": "cb7f1e1a55af7eb0",
   "outputs": [],
   "execution_count": null
  }
 ],
 "metadata": {
  "kernelspec": {
   "display_name": "Python 3",
   "language": "python",
   "name": "python3"
  },
  "language_info": {
   "codemirror_mode": {
    "name": "ipython",
    "version": 2
   },
   "file_extension": ".py",
   "mimetype": "text/x-python",
   "name": "python",
   "nbconvert_exporter": "python",
   "pygments_lexer": "ipython2",
   "version": "2.7.6"
  }
 },
 "nbformat": 4,
 "nbformat_minor": 5
}
